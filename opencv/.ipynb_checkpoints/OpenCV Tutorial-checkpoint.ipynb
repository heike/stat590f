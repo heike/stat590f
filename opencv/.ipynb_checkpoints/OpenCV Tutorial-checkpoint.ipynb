{
 "metadata": {
  "name": "",
  "signature": "sha256:446a1d681a9732fc57daddc4cdaf9d4680172ff793778e5d338865ab654b4145"
 },
 "nbformat": 3,
 "nbformat_minor": 0,
 "worksheets": [
  {
   "cells": [
    {
     "cell_type": "code",
     "collapsed": false,
     "input": [
      "# To install OpenCV\n",
      "# On Mac, using Homebrew: \n",
      "#    brew tap homebrew/science\n",
      "#    brew install opencv\n",
      "# On Linux,\n",
      "#    sudo apt-get install libopencv-dev python-opencv\n",
      "# On Windows,\n",
      "#    http://www.google.com\n",
      "\n",
      "# To run, make sure to use python2 (python3 unsupported)"
     ],
     "language": "python",
     "metadata": {},
     "outputs": []
    },
    {
     "cell_type": "code",
     "collapsed": false,
     "input": [
      "import numpy as np\n",
      "import cv2\n",
      "import matplotlib.pyplot as plt\n",
      "\n",
      "# Load an color image\n",
      "img = cv2.imread('boston.jpg')"
     ],
     "language": "python",
     "metadata": {},
     "outputs": [],
     "prompt_number": 15
    },
    {
     "cell_type": "code",
     "collapsed": false,
     "input": [
      "# Display the image in a window\n",
      "cv2.imshow('image',img)\n",
      "cv2.waitKey(0)\n",
      "cv2.destroyAllWindows()"
     ],
     "language": "python",
     "metadata": {},
     "outputs": [],
     "prompt_number": 16
    },
    {
     "cell_type": "code",
     "collapsed": false,
     "input": [
      "# Kill the window\n",
      "cv2.destroyAllWindows()"
     ],
     "language": "python",
     "metadata": {},
     "outputs": [],
     "prompt_number": 3
    },
    {
     "cell_type": "code",
     "collapsed": false,
     "input": [
      "# Write the grayscale image to a file\n",
      "gray = cv2.imread('boston.jpg',0)\n",
      "cv2.imshow('grayimage',gray)\n",
      "cv2.waitKey(0)\n",
      "cv2.destroyAllWindows()\n",
      "cv2.imwrite('boston_gray.png',gray)"
     ],
     "language": "python",
     "metadata": {},
     "outputs": [
      {
       "metadata": {},
       "output_type": "pyout",
       "prompt_number": 17,
       "text": [
        "True"
       ]
      }
     ],
     "prompt_number": 17
    },
    {
     "cell_type": "code",
     "collapsed": false,
     "input": [
      "## Video capturing routine\n",
      "## Uses your webcam!\n",
      "cap = cv2.VideoCapture(0)\n",
      "\n",
      "while(True):\n",
      "    # Capture frame-by-frame\n",
      "    ret, frame = cap.read()\n",
      "\n",
      "    # Our operations on the frame come here\n",
      "    gray = cv2.cvtColor(frame, cv2.COLOR_BGR2GRAY)\n",
      "\n",
      "    # Display the resulting frame\n",
      "    cv2.imshow('frame',frame)\n",
      "    if cv2.waitKey(1) & 0xFF == ord('q'):\n",
      "        break\n",
      "\n",
      "# When everything done, release the capture\n",
      "cap.release()\n",
      "cv2.destroyAllWindows()"
     ],
     "language": "python",
     "metadata": {},
     "outputs": [],
     "prompt_number": 18
    },
    {
     "cell_type": "code",
     "collapsed": false,
     "input": [
      "img[200,200]"
     ],
     "language": "python",
     "metadata": {},
     "outputs": [
      {
       "metadata": {},
       "output_type": "pyout",
       "prompt_number": 19,
       "text": [
        "array([18, 38, 63], dtype=uint8)"
       ]
      }
     ],
     "prompt_number": 19
    },
    {
     "cell_type": "code",
     "collapsed": false,
     "input": [
      "img[200]"
     ],
     "language": "python",
     "metadata": {},
     "outputs": [
      {
       "metadata": {},
       "output_type": "pyout",
       "prompt_number": 20,
       "text": [
        "array([[ 15,  26,  46],\n",
        "       [ 15,  26,  46],\n",
        "       [ 13,  24,  44],\n",
        "       ..., \n",
        "       [145, 104,  89],\n",
        "       [141, 100,  85],\n",
        "       [137,  96,  81]], dtype=uint8)"
       ]
      }
     ],
     "prompt_number": 20
    },
    {
     "cell_type": "code",
     "collapsed": false,
     "input": [
      "img[200,200] = [255, 255, 255]"
     ],
     "language": "python",
     "metadata": {},
     "outputs": [],
     "prompt_number": 21
    },
    {
     "cell_type": "code",
     "collapsed": false,
     "input": [
      "img[200] = [255, 255, 255]\n",
      "cv2.imshow('image',img)\n",
      "cv2.waitKey(0)\n",
      "cv2.destroyAllWindows()"
     ],
     "language": "python",
     "metadata": {},
     "outputs": [],
     "prompt_number": 22
    },
    {
     "cell_type": "code",
     "collapsed": false,
     "input": [
      "img = cv2.imread('boston.jpg')\n",
      "img.shape"
     ],
     "language": "python",
     "metadata": {},
     "outputs": [
      {
       "metadata": {},
       "output_type": "pyout",
       "prompt_number": 23,
       "text": [
        "(1280, 960, 3)"
       ]
      }
     ],
     "prompt_number": 23
    },
    {
     "cell_type": "code",
     "collapsed": false,
     "input": [
      "# Thresholding\n",
      "gray = cv2.imread('boston.jpg',0)\n",
      "ret,thresh1 = cv2.threshold(gray,127,255,cv2.THRESH_BINARY)\n",
      "cv2.imshow('image',thresh1)\n",
      "cv2.waitKey(0)\n",
      "cv2.destroyAllWindows()"
     ],
     "language": "python",
     "metadata": {},
     "outputs": [],
     "prompt_number": 30
    },
    {
     "cell_type": "code",
     "collapsed": false,
     "input": [
      "# Edge detection\n",
      "edges = cv2.Canny(img,100,200)\n",
      "cv2.imshow('edges',edges)\n",
      "cv2.waitKey(0)\n",
      "cv2.destroyAllWindows()"
     ],
     "language": "python",
     "metadata": {},
     "outputs": [],
     "prompt_number": 26
    },
    {
     "cell_type": "code",
     "collapsed": false,
     "input": [
      "# Corner Detection\n",
      "dst = cv2.cornerHarris(gray,2,3,0.04)\n",
      "cv2.imshow('corners', dst)\n",
      "cv2.waitKey(0)\n",
      "cv2.destroyAllWindows()"
     ],
     "language": "python",
     "metadata": {},
     "outputs": [],
     "prompt_number": 32
    },
    {
     "cell_type": "code",
     "collapsed": false,
     "input": [
      "# Face Detection\n",
      "gray = cv2.cvtColor(img, cv2.COLOR_BGR2GRAY)\n",
      "\n",
      "face_cascade = cv2.CascadeClassifier('haarcascade_frontalface_alt.xml')\n",
      "eye_cascade = cv2.CascadeClassifier('haarcascade_eye.xml')\n",
      "\n",
      "faces = face_cascade.detectMultiScale(gray, 1.3, 5)\n",
      "for (x,y,w,h) in faces:\n",
      "    cv2.rectangle(img,(x,y),(x+w,y+h),(255,0,0),2)\n",
      "    roi_gray = gray[y:y+h, x:x+w]\n",
      "    roi_color = img[y:y+h, x:x+w]\n",
      "    eyes = eye_cascade.detectMultiScale(roi_gray)\n",
      "    for (ex,ey,ew,eh) in eyes:\n",
      "        cv2.rectangle(roi_color,(ex,ey),(ex+ew,ey+eh),(0,255,0),2)\n",
      "\n",
      "cv2.imshow('img',img)\n",
      "cv2.waitKey(0)\n",
      "cv2.destroyAllWindows()"
     ],
     "language": "python",
     "metadata": {},
     "outputs": [],
     "prompt_number": 11
    },
    {
     "cell_type": "code",
     "collapsed": false,
     "input": [
      "## Video capturing routine\n",
      "## Uses your webcam!\n",
      "cap = cv2.VideoCapture(0)\n",
      "\n",
      "while(True):\n",
      "    # Capture frame-by-frame\n",
      "    ret, frame = cap.read()\n",
      "\n",
      "    # Our operations on the frame come here\n",
      "    gray = cv2.cvtColor(frame, cv2.COLOR_BGR2GRAY)\n",
      "    \n",
      "    face_cascade = cv2.CascadeClassifier('haarcascade_frontalface_alt.xml')\n",
      "    eye_cascade = cv2.CascadeClassifier('haarcascade_eye.xml')\n",
      "\n",
      "    faces = face_cascade.detectMultiScale(gray, 1.3, 5)\n",
      "    for (x,y,w,h) in faces:\n",
      "        cv2.rectangle(frame,(x,y),(x+w,y+h),(255,0,0),2)\n",
      "        roi_gray = gray[y:y+h, x:x+w]\n",
      "        roi_color = frame[y:y+h, x:x+w]\n",
      "        eyes = eye_cascade.detectMultiScale(roi_gray)\n",
      "        for (ex,ey,ew,eh) in eyes:\n",
      "            cv2.rectangle(roi_color,(ex,ey),(ex+ew,ey+eh),(0,255,0),2)\n",
      "\n",
      "    # Display the resulting frame\n",
      "    cv2.imshow('frame',frame)\n",
      "    if cv2.waitKey(1) & 0xFF == ord('q'):\n",
      "        break\n",
      "\n",
      "# When everything done, release the capture\n",
      "cap.release()\n",
      "cv2.destroyAllWindows()"
     ],
     "language": "python",
     "metadata": {},
     "outputs": [],
     "prompt_number": 8
    }
   ],
   "metadata": {}
  }
 ]
}