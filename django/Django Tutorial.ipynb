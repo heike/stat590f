{
 "cells": [
  {
   "cell_type": "markdown",
   "metadata": {
    "collapsed": true
   },
   "source": [
    "# Django - Web framework\n",
    "## INSTALLATION\n",
    "Using pip: pip install Django"
   ]
  },
  {
   "cell_type": "code",
   "execution_count": null,
   "metadata": {
    "collapsed": false
   },
   "outputs": [],
   "source": [
    "# Check if importable\n",
    "# Should work in Python2 or Python3\n",
    "# Note - The tutorial actually assumes Python3...\n",
    "import django\n",
    "print(django.get_version())"
   ]
  },
  {
   "cell_type": "markdown",
   "metadata": {
    "collapsed": true
   },
   "source": [
    "## Project Creation\n",
    "\n",
    "From terminal:\n",
    "*django-admin startproject stat590f*\n",
    "\n",
    "Do not name according to common python components\n",
    "So things like \"test\" are a bad name"
   ]
  },
  {
   "cell_type": "markdown",
   "metadata": {
    "collapsed": true
   },
   "source": [
    "## Security warning\n",
    "Don't put your python code in your web server root\n",
    "Users might be able to view it...\n",
    "You can keep your code anywhere on the server, like the home directory"
   ]
  },
  {
   "cell_type": "markdown",
   "metadata": {},
   "source": [
    "## Description\n",
    "\n",
    "The outer root directory is just a container for your project. Its name doesn’t matter to Django; you can rename it to anything you like.\n",
    "\n",
    "manage.py: A command-line utility that lets you interact with this Django project in various ways. You can read all the details about manage.py in django-admin and manage.py.\n",
    "\n",
    "The inner mysite/ directory is the actual Python package for your project. Its name is the Python package name you’ll need to use to import anything inside it (e.g. mysite.urls).\n",
    "\n",
    "mysite/__init__.py: An empty file that tells Python that this directory should be considered a Python package. (Read more about packages in the official Python docs if you’re a Python beginner.)\n",
    "\n",
    "mysite/settings.py: Settings/configuration for this Django project. Django settings will tell you all about how settings work.\n",
    "\n",
    "mysite/urls.py: The URL declarations for this Django project; a “table of contents” of your Django-powered site. You can read more about URLs in URL dispatcher.\n",
    "\n",
    "mysite/wsgi.py: An entry-point for WSGI-compatible web servers to serve your project. See How to deploy with WSGI for more details."
   ]
  },
  {
   "cell_type": "markdown",
   "metadata": {},
   "source": [
    "## Further Steps\n",
    "\n",
    "**cd stat590f**\n",
    "\n",
    "Edit **stat590f/settings.py**\n",
    "    * Change settings as desired\n",
    "    * Timezone in particular\n",
    "    * Database can be switched to MySQL\n",
    "    "
   ]
  },
  {
   "cell_type": "markdown",
   "metadata": {},
   "source": [
    "Run **python manage.py migrate**"
   ]
  },
  {
   "cell_type": "markdown",
   "metadata": {},
   "source": [
    "Run **python manage.py runserver**"
   ]
  },
  {
   "cell_type": "markdown",
   "metadata": {},
   "source": [
    "Browse to **http://127.0.0.1:8000/**"
   ]
  },
  {
   "cell_type": "markdown",
   "metadata": {},
   "source": [
    "## Building First App\n",
    "\n",
    "Run **python manage.py startapp polls**\n",
    "\n",
    "The first step in writing a database Web app in Django is to define your models – essentially, your database layout, with additional metadata.\n",
    "\n",
    "## Philosophy\n",
    "\n",
    "A model is the single, definitive source of truth about your data. It contains the essential fields and behaviors of the data you’re storing. Django follows the DRY Principle. The goal is to define your data model in one place and automatically derive things from it.\n",
    "\n",
    "This includes the migrations - unlike in Ruby On Rails, for example, migrations are entirely derived from your models file, and are essentially just a history that Django can roll through to update your database schema to match your current models.\n",
    "\n",
    "In our simple poll app, we’ll create two models: Question and Choice. A Question has a question and a publication date. A Choice has two fields: the text of the choice and a vote tally. Each Choice is associated with a Question.\n",
    "\n",
    "These concepts are represented by simple Python classes. Edit the polls/models.py file so it looks like this:"
   ]
  },
  {
   "cell_type": "code",
   "execution_count": null,
   "metadata": {
    "collapsed": false
   },
   "outputs": [],
   "source": [
    "from django.db import models\n",
    "\n",
    "\n",
    "class Question(models.Model):\n",
    "    question_text = models.CharField(max_length=200)\n",
    "    pub_date = models.DateTimeField('date published')\n",
    "\n",
    "\n",
    "class Choice(models.Model):\n",
    "    question = models.ForeignKey(Question)\n",
    "    choice_text = models.CharField(max_length=200)\n",
    "    votes = models.IntegerField(default=0)"
   ]
  },
  {
   "cell_type": "markdown",
   "metadata": {},
   "source": [
    "Edit the **stat590f/settings.py** file again, and change the INSTALLED_APPS setting to include the string 'polls'."
   ]
  },
  {
   "cell_type": "markdown",
   "metadata": {},
   "source": [
    "Run **python manage.py makemigrations polls**"
   ]
  },
  {
   "cell_type": "markdown",
   "metadata": {},
   "source": [
    "Run **python manage.py migrate**"
   ]
  },
  {
   "cell_type": "markdown",
   "metadata": {},
   "source": [
    "Note the three steps to making changes to a model:\n",
    "\n",
    "1. Change your models (in models.py).\n",
    "2. Run python manage.py makemigrations to create migrations for those changes\n",
    "3. Run python manage.py migrate to apply those changes to the database."
   ]
  },
  {
   "cell_type": "markdown",
   "metadata": {},
   "source": [
    "## Enable Admin User\n",
    "\n",
    "1. Run **python manage.py createsuperuser**\n",
    "2. Edit polls/admin.py to be the following:"
   ]
  },
  {
   "cell_type": "code",
   "execution_count": null,
   "metadata": {
    "collapsed": true
   },
   "outputs": [],
   "source": [
    "from django.contrib import admin\n",
    "\n",
    "from .models import Choice, Question\n",
    "\n",
    "admin.site.register(Question)\n",
    "admin.site.register(Choice)"
   ]
  },
  {
   "cell_type": "code",
   "execution_count": null,
   "metadata": {
    "collapsed": true
   },
   "outputs": [],
   "source": []
  }
 ],
 "metadata": {
  "kernelspec": {
   "display_name": "Python 2",
   "language": "python",
   "name": "python2"
  },
  "language_info": {
   "codemirror_mode": {
    "name": "ipython",
    "version": 2
   },
   "file_extension": ".py",
   "mimetype": "text/x-python",
   "name": "python",
   "nbconvert_exporter": "python",
   "pygments_lexer": "ipython2",
   "version": "2.7.9"
  }
 },
 "nbformat": 4,
 "nbformat_minor": 0
}
