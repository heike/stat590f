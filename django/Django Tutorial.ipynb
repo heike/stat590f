{
 "cells": [
  {
   "cell_type": "code",
   "execution_count": null,
   "metadata": {
    "collapsed": true
   },
   "outputs": [],
   "source": [
    "# Django - Web framework\n",
    "# INSTALLATION\n",
    "# Using pip: pip install Django"
   ]
  },
  {
   "cell_type": "code",
   "execution_count": 1,
   "metadata": {
    "collapsed": false
   },
   "outputs": [
    {
     "name": "stdout",
     "output_type": "stream",
     "text": [
      "1.8\n"
     ]
    }
   ],
   "source": [
    "# Check if importable\n",
    "# Should work in Python2 or Python3\n",
    "# Note - The tutorial actually assumes Python3...\n",
    "import django\n",
    "print(django.get_version())"
   ]
  },
  {
   "cell_type": "code",
   "execution_count": null,
   "metadata": {
    "collapsed": true
   },
   "outputs": [],
   "source": [
    "# From terminal\n",
    "django-admin startproject stat590f\n",
    "# Do not name according to common python components\n",
    "# So things like \"test\" are a bad name"
   ]
  },
  {
   "cell_type": "code",
   "execution_count": null,
   "metadata": {
    "collapsed": true
   },
   "outputs": [],
   "source": [
    "# Security warning\n",
    "# Don't put your python code in your web server root\n",
    "# Users might be able to view it...\n",
    "# You can keep your code anywhere on the server, like the home directory"
   ]
  },
  {
   "cell_type": "markdown",
   "metadata": {},
   "source": [
    "The outer root directory is just a container for your project. Its name doesn’t matter to Django; you can rename it to anything you like.\n",
    "\n",
    "manage.py: A command-line utility that lets you interact with this Django project in various ways. You can read all the details about manage.py in django-admin and manage.py.\n",
    "\n",
    "The inner mysite/ directory is the actual Python package for your project. Its name is the Python package name you’ll need to use to import anything inside it (e.g. mysite.urls).\n",
    "\n",
    "mysite/__init__.py: An empty file that tells Python that this directory should be considered a Python package. (Read more about packages in the official Python docs if you’re a Python beginner.)\n",
    "\n",
    "mysite/settings.py: Settings/configuration for this Django project. Django settings will tell you all about how settings work.\n",
    "\n",
    "mysite/urls.py: The URL declarations for this Django project; a “table of contents” of your Django-powered site. You can read more about URLs in URL dispatcher.\n",
    "\n",
    "mysite/wsgi.py: An entry-point for WSGI-compatible web servers to serve your project. See How to deploy with WSGI for more details."
   ]
  },
  {
   "cell_type": "markdown",
   "metadata": {},
   "source": [
    "Edit **stat590f/settings.py**\n",
    "    * Change settings as desired\n",
    "    * Timezone in particular\n",
    "    * Database can be switched to MySQL\n",
    "    "
   ]
  },
  {
   "cell_type": "markdown",
   "metadata": {},
   "source": [
    "Run **python manage.py migrate**"
   ]
  },
  {
   "cell_type": "markdown",
   "metadata": {},
   "source": [
    "Run **python manage.py runserver**"
   ]
  }
 ],
 "metadata": {
  "kernelspec": {
   "display_name": "Python 2",
   "language": "python",
   "name": "python2"
  },
  "language_info": {
   "codemirror_mode": {
    "name": "ipython",
    "version": 2
   },
   "file_extension": ".py",
   "mimetype": "text/x-python",
   "name": "python",
   "nbconvert_exporter": "python",
   "pygments_lexer": "ipython2",
   "version": "2.7.9"
  }
 },
 "nbformat": 4,
 "nbformat_minor": 0
}
